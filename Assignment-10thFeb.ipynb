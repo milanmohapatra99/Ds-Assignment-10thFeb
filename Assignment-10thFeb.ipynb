{
 "cells": [
  {
   "cell_type": "markdown",
   "id": "01b04727-aa73-49bf-b027-5b7d99e5ba6c",
   "metadata": {},
   "source": [
    "Que:1. Which Function is used to open a file?What are the different modes of opening a file?Explain each mode of file opening."
   ]
  },
  {
   "cell_type": "markdown",
   "id": "2d2d20dc-53b7-4d66-9f0c-1e28017b8a15",
   "metadata": {},
   "source": [
    "Ans : The open() is used to open a file.\n",
    "\n",
    "There are 8 modes of opening files:\n",
    "\n",
    "    1- \"r\" - Read - Default value. Opens a file for reading, error if the file does not exist.\n",
    "\n",
    "    2- \"a\" - Append - Opens a file for appending, creates the file if it does not exist.\n",
    "\n",
    "    3- \"w\" - Write - Opens a file for writing, creates the file if it does not exist.\n",
    "\n",
    "    4- \"x\" - Create - Creates the specified file, returns an error if the file exists.\n",
    "    \n",
    "    5- \"t\" - Text - Default value. Text mode\n",
    "\n",
    "    6- \"b\" - Binary - Binary mode (e.g. images)\n",
    "    \n",
    "    7- '+'       open a disk file for updating (reading and writing)\n",
    "    8- 'U'       universal newline mode (deprecated)"
   ]
  },
  {
   "cell_type": "markdown",
   "id": "a88401f5-6cda-4397-881b-23082a342756",
   "metadata": {},
   "source": [
    "Que:2. Why close() function is used?Why is it important to close a file?"
   ]
  },
  {
   "cell_type": "markdown",
   "id": "bc7e4790-f3c5-43f2-b16d-7233e1461369",
   "metadata": {},
   "source": [
    "Ans : The close() method closes an open file.\n",
    "\n",
    "It is important to close files you are working with as soon as you are finished with them. This minimizes the amount of user virtual\n",
    "machine resources required and helps keep shared files and directories available for other users. \n",
    "Closing a file means logically disconnecting it from the application program.\n",
    "\n",
    " \n",
    "Because, when you open a file, the file is locked for writing(if opened in write mode). \n",
    "Thus you cannot access that file outside your program(e.g. through file browser) while it is open in python. \n",
    "Moreover you cannot see the changes you made to the file in your program until you close it.\n",
    "The close function actually saves the changes to the file and releases the lock."
   ]
  },
  {
   "cell_type": "markdown",
   "id": "da665dbd-eb10-4f8b-a152-bf658a3c3e60",
   "metadata": {},
   "source": [
    "Que:3. Write a python program to create a text file.Write 'i want to beacome a datascientist'In that file.Then close the file.open this file and read the content of the file."
   ]
  },
  {
   "cell_type": "code",
   "execution_count": null,
   "id": "9ba0db23-2bb3-4cbb-af0e-24c67d1a1297",
   "metadata": {},
   "outputs": [],
   "source": [
    "\n",
    "#creating a text file with the command function \"w\"\n",
    "\n",
    "file = open(\"myfile.txt\", \"w\")\n",
    "\n",
    "#Using write() we can insert text in that file.\n",
    "file.write(\"I want to beacome a datascientist\")\n",
    "\n",
    "# Using the close() to change file access modes\n",
    "file.close()\n",
    "\n",
    "#('r’) opens the text files for reading only\n",
    "file = open(\"myfiles.txt\", \"r\")\n",
    "\n",
    "#The \"file.read\" prints out the data in the text file in the shell when run.\n",
    "print(file.read())\n",
    "\n",
    "file.close()\n",
    "\n",
    "\n"
   ]
  },
  {
   "cell_type": "markdown",
   "id": "d5daa73b-da9f-4901-aa17-b4be90de57a8",
   "metadata": {},
   "source": [
    "Que :4. Explain the following with python code :read() ,readline() and readlines()."
   ]
  },
  {
   "cell_type": "code",
   "execution_count": null,
   "id": "e40304ba-1c22-466c-89c2-d886663dca74",
   "metadata": {},
   "outputs": [],
   "source": [
    "Ans:\n",
    "    1-read() :-\n",
    "        Reads and returns a string of n characters, or the entire file as a single string if n is not provided.\n",
    "    \n",
    "        e.g:\n",
    "            read(n)\n",
    "            file.read()\n",
    "            \n",
    "        code:\n",
    "            #open files in read mode\n",
    "            f = open(\"pythonfile.txt\", \"r\")\n",
    "            print(f.read())\n",
    "        \n",
    "        2-readlines() :- \n",
    "            Returns the next line of the file with all text up to and including the newline character. \n",
    "            If n is provided as a parameter than only n characters will be returned if the line is longer than n.\n",
    "            \n",
    "            e.g:-\n",
    "                readline(n)\n",
    "                file.readline()\n",
    "                \n",
    "                \n",
    "            code: \n",
    "                    #open the file for read operation\n",
    "                    fl = open('pythonfile.txt')\n",
    "                    # reads line by line\n",
    "                    l = fl.readline()\n",
    "                    while l!= \"\":\n",
    "                    print(l)\n",
    "                    l = fl.readline()\n",
    "                    #close the file\n",
    "                    fl.close()\n",
    "                \n",
    "                \n",
    "        3- readlines() :-\n",
    "            Returns a list of strings, each representing a single line of the file. If n is not provided then all lines of the file are returned. \n",
    "            If n is provided then n characters are read but n is rounded up so that an entire line is returned.\n",
    "            \n",
    "            e.g:\n",
    "                readlines(n)\n",
    "                file.readlines() \n",
    "        \n",
    "            code:\n",
    "                #open the file for read operation\n",
    "                fl = open('pythonfile.txt')\n",
    "                # reads line by line and stores them in list\n",
    "                for l in fl.readlines():\n",
    "                print(l)\n",
    "                #close the file\n",
    "                fl.close()\n",
    "    "
   ]
  },
  {
   "cell_type": "markdown",
   "id": "93194974-dd97-4bf2-a15d-e8aa66380a94",
   "metadata": {},
   "source": [
    "Que:5. Explain why with statement is used with open().What is the advantage of using with statement and open() together?"
   ]
  },
  {
   "cell_type": "markdown",
   "id": "e651d381-b73b-4bed-ae61-03720556c19b",
   "metadata": {},
   "source": [
    "Ans:-\n",
    "open()\n",
    "The open(), you declare a variable for it first. The open() function takes up to 3 parameters – the filename, the mode, and the encoding.\n",
    "we can then specify what you want to do with the file in a print function.The open() function does not close the file, so we also have to close the file with the close() method.\n",
    "\n",
    "withstatement with open():-\n",
    "The with statement works with the open() function to open a file.\n",
    "with statement is used in exception handling to make the code cleaner and much more readable. It simplifies the management of common resources like file streams.\n",
    "\n",
    "Advantages:\n",
    "    There is nothing special in open() which makes it usable with the with statement and the same functionality can be provided in user defined objects. Supporting with statement in your objects will ensure that you never leave any resource open.\n",
    "    To use with statement in user defined objects you only need to add the methods __enter__() and __exit__() in the object methods. \n",
    "\n",
    "conclusion:-\n",
    "the combination of with and open() because the with statement closes the file for you .\n"
   ]
  },
  {
   "cell_type": "markdown",
   "id": "80e5fdc4-3d60-438d-a772-dc3e7fb9f98d",
   "metadata": {},
   "source": [
    "Que:6.Explain the write() and writelines() functions.Give a suitable example."
   ]
  },
  {
   "cell_type": "markdown",
   "id": "79cbb36e-0041-47ad-b741-65fe3f252f30",
   "metadata": {},
   "source": [
    "Ans: \n",
    "write():\n",
    "The write() function will write the content in the file without adding any extra characters.\n",
    "\n",
    "writelines() :\n",
    "This function writes the content of a list to a file.\n",
    "\n",
    "Conclusion:-\n",
    "The write() and writelines() is that write() is used to write a string to an already opened file while writelines() method is used to write a list of strings in an opened file."
   ]
  },
  {
   "cell_type": "code",
   "execution_count": null,
   "id": "e470666b-868f-4e5d-ba81-46487d1ff40d",
   "metadata": {},
   "outputs": [],
   "source": [
    "writelines example:-\n",
    "\n",
    "file1 = open(\"stud.txt\", \"w\")\n",
    "lst = []\n",
    "for i in range(3):\n",
    "    name = input(\"Enter the name of the student: \")\n",
    "    lst.append(name + '\\n')\n",
    "      \n",
    "file1.writelines(lst)\n",
    "file1.close()\n",
    "print(\"Data is written into the file.\") \n",
    "\n",
    "\n",
    "write example:\n",
    "\n",
    "file = open(\"stud.txt\", \"w\")\n",
    "  \n",
    "for i in range(3):\n",
    "    name = input(\"Enter the name of the student: \")\n",
    "    file.write(name)\n",
    "    file.write(\"\\n\")\n",
    "     \n",
    "file.close()\n",
    "  \n",
    "print(\"Data is written into the file.\")\n",
    "    "
   ]
  }
 ],
 "metadata": {
  "kernelspec": {
   "display_name": "Python 3 (ipykernel)",
   "language": "python",
   "name": "python3"
  },
  "language_info": {
   "codemirror_mode": {
    "name": "ipython",
    "version": 3
   },
   "file_extension": ".py",
   "mimetype": "text/x-python",
   "name": "python",
   "nbconvert_exporter": "python",
   "pygments_lexer": "ipython3",
   "version": "3.10.6"
  }
 },
 "nbformat": 4,
 "nbformat_minor": 5
}
